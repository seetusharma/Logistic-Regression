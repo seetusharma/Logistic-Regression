{
 "cells": [
  {
   "cell_type": "code",
   "execution_count": 16,
   "metadata": {},
   "outputs": [],
   "source": [
    "from sklearn.datasets import load_digits\n",
    "import matplotlib.pyplot as plt"
   ]
  },
  {
   "cell_type": "code",
   "execution_count": 17,
   "metadata": {},
   "outputs": [],
   "source": [
    "df=load_digits()"
   ]
  },
  {
   "cell_type": "code",
   "execution_count": 18,
   "metadata": {},
   "outputs": [],
   "source": [
    "from sklearn.model_selection import train_test_split\n",
    "xtrain,xtest,ytrain,ytest=train_test_split(df.data,df.target,test_size=0.3)"
   ]
  },
  {
   "cell_type": "code",
   "execution_count": 19,
   "metadata": {},
   "outputs": [
    {
     "data": {
      "text/plain": [
       "1257"
      ]
     },
     "execution_count": 19,
     "metadata": {},
     "output_type": "execute_result"
    }
   ],
   "source": [
    "len(xtrain)"
   ]
  },
  {
   "cell_type": "code",
   "execution_count": 20,
   "metadata": {},
   "outputs": [
    {
     "data": {
      "text/plain": [
       "540"
      ]
     },
     "execution_count": 20,
     "metadata": {},
     "output_type": "execute_result"
    }
   ],
   "source": [
    "len(xtest)"
   ]
  },
  {
   "cell_type": "code",
   "execution_count": 22,
   "metadata": {
    "collapsed": true
   },
   "outputs": [
    {
     "name": "stderr",
     "output_type": "stream",
     "text": [
      "F:\\ANACONDA\\lib\\site-packages\\sklearn\\linear_model\\logistic.py:432: FutureWarning: Default solver will be changed to 'lbfgs' in 0.22. Specify a solver to silence this warning.\n",
      "  FutureWarning)\n",
      "F:\\ANACONDA\\lib\\site-packages\\sklearn\\linear_model\\logistic.py:469: FutureWarning: Default multi_class will be changed to 'auto' in 0.22. Specify the multi_class option to silence this warning.\n",
      "  \"this warning.\", FutureWarning)\n"
     ]
    },
    {
     "data": {
      "text/plain": [
       "LogisticRegression(C=1.0, class_weight=None, dual=False, fit_intercept=True,\n",
       "                   intercept_scaling=1, l1_ratio=None, max_iter=100,\n",
       "                   multi_class='warn', n_jobs=None, penalty='l2',\n",
       "                   random_state=None, solver='warn', tol=0.0001, verbose=0,\n",
       "                   warm_start=False)"
      ]
     },
     "execution_count": 22,
     "metadata": {},
     "output_type": "execute_result"
    }
   ],
   "source": [
    "from sklearn.linear_model import LogisticRegression\n",
    "reg=LogisticRegression()\n",
    "reg.fit(xtrain,ytrain)\n"
   ]
  },
  {
   "cell_type": "code",
   "execution_count": 23,
   "metadata": {},
   "outputs": [],
   "source": [
    "ypredict=reg.predict(xtest)"
   ]
  },
  {
   "cell_type": "code",
   "execution_count": 31,
   "metadata": {
    "collapsed": true
   },
   "outputs": [
    {
     "data": {
      "text/plain": [
       "array([0, 6, 5, 6, 6, 5, 5, 1, 7, 9, 4, 7, 7, 0, 3, 9, 0, 5, 5, 8, 5, 1,\n",
       "       5, 0, 0, 7, 7, 0, 5, 4, 3, 7, 9, 0, 5, 0, 0, 2, 0, 9, 4, 6, 3, 9,\n",
       "       9, 6, 1, 9, 6, 1, 0, 8, 2, 9, 8, 4, 0, 6, 5, 1, 0, 6, 6, 8, 7, 9,\n",
       "       1, 6, 1, 6, 9, 7, 5, 9, 1, 3, 0, 0, 6, 5, 6, 5, 2, 0, 7, 5, 2, 3,\n",
       "       0, 9, 2, 2, 0, 6, 5, 6, 8, 9, 2, 8, 2, 5, 6, 7, 2, 1, 1, 3, 6, 8,\n",
       "       2, 7, 0, 0, 9, 0, 4, 2, 5, 3, 9, 8, 4, 1, 3, 0, 3, 6, 9, 0, 1, 1,\n",
       "       2, 3, 8, 9, 1, 9, 5, 2, 1, 2, 9, 3, 5, 2, 9, 7, 2, 0, 8, 9, 9, 7,\n",
       "       6, 7, 8, 7, 1, 8, 7, 3, 8, 3, 6, 2, 3, 3, 5, 7, 4, 0, 0, 8, 1, 2,\n",
       "       7, 3, 1, 5, 2, 8, 4, 4, 6, 9, 2, 0, 8, 5, 1, 1, 1, 0, 8, 3, 1, 0,\n",
       "       1, 6, 9, 2, 3, 3, 2, 5, 2, 4, 1, 4, 5, 8, 9, 7, 5, 8, 9, 1, 0, 8,\n",
       "       7, 5, 0, 9, 4, 2, 7, 8, 7, 6, 8, 7, 3, 0, 2, 3, 1, 3, 0, 8, 4, 8,\n",
       "       4, 6, 4, 2, 6, 3, 3, 0, 3, 0, 5, 5, 7, 3, 3, 5, 5, 4, 4, 1, 5, 9,\n",
       "       9, 0, 5, 3, 7, 2, 8, 4, 7, 4, 7, 7, 1, 7, 9, 7, 8, 9, 4, 4, 2, 8,\n",
       "       1, 1, 1, 8, 2, 6, 2, 3, 0, 0, 7, 3, 4, 9, 5, 8, 8, 4, 5, 9, 8, 1,\n",
       "       8, 6, 8, 7, 9, 0, 5, 4, 4, 4, 1, 4, 0, 8, 2, 2, 9, 4, 5, 9, 6, 5,\n",
       "       4, 4, 6, 8, 9, 7, 1, 4, 4, 6, 1, 3, 0, 8, 9, 9, 6, 8, 0, 4, 7, 7,\n",
       "       2, 1, 7, 1, 6, 1, 5, 3, 0, 7, 4, 2, 4, 8, 3, 6, 9, 6, 2, 1, 9, 4,\n",
       "       5, 1, 9, 5, 0, 0, 1, 0, 8, 6, 0, 1, 7, 5, 6, 0, 1, 6, 2, 5, 9, 6,\n",
       "       6, 0, 7, 7, 3, 7, 2, 1, 1, 3, 5, 6, 3, 0, 2, 5, 2, 7, 2, 1, 8, 3,\n",
       "       2, 4, 6, 5, 6, 1, 1, 5, 0, 7, 3, 2, 2, 1, 4, 8, 0, 6, 5, 0, 1, 6,\n",
       "       1, 0, 9, 9, 0, 8, 2, 5, 2, 2, 1, 0, 4, 3, 4, 6, 7, 5, 2, 6, 0, 2,\n",
       "       3, 3, 1, 2, 9, 0, 9, 2, 0, 5, 4, 1, 3, 3, 7, 9, 3, 7, 9, 5, 4, 6,\n",
       "       8, 4, 5, 1, 0, 2, 9, 6, 1, 7, 7, 8, 0, 5, 1, 0, 7, 1, 9, 5, 1, 4,\n",
       "       5, 3, 1, 8, 7, 2, 8, 0, 4, 3, 1, 2, 9, 8, 7, 4, 4, 9, 9, 2, 3, 5,\n",
       "       3, 6, 7, 5, 2, 3, 4, 6, 8, 7, 8, 0])"
      ]
     },
     "execution_count": 31,
     "metadata": {},
     "output_type": "execute_result"
    }
   ],
   "source": [
    "ytest"
   ]
  },
  {
   "cell_type": "code",
   "execution_count": 32,
   "metadata": {},
   "outputs": [
    {
     "data": {
      "text/plain": [
       "0.9666666666666667"
      ]
     },
     "execution_count": 32,
     "metadata": {},
     "output_type": "execute_result"
    }
   ],
   "source": [
    "reg.score(xtest,ytest)"
   ]
  },
  {
   "cell_type": "code",
   "execution_count": 25,
   "metadata": {},
   "outputs": [],
   "source": [
    "from sklearn.metrics import confusion_matrix"
   ]
  },
  {
   "cell_type": "code",
   "execution_count": 26,
   "metadata": {},
   "outputs": [
    {
     "data": {
      "text/plain": [
       "array([[63,  0,  0,  0,  0,  1,  0,  0,  0,  0],\n",
       "       [ 0, 61,  0,  0,  0,  0,  0,  0,  0,  0],\n",
       "       [ 0,  0, 53,  2,  0,  0,  0,  0,  0,  0],\n",
       "       [ 0,  0,  0, 47,  0,  0,  0,  0,  1,  1],\n",
       "       [ 0,  1,  0,  0, 47,  0,  0,  0,  0,  0],\n",
       "       [ 0,  0,  0,  0,  0, 56,  0,  0,  0,  1],\n",
       "       [ 0,  0,  0,  0,  0,  1, 48,  0,  1,  0],\n",
       "       [ 0,  1,  0,  0,  0,  0,  0, 51,  1,  0],\n",
       "       [ 0,  3,  0,  0,  0,  0,  0,  0, 46,  0],\n",
       "       [ 0,  2,  0,  0,  0,  0,  0,  1,  1, 50]], dtype=int64)"
      ]
     },
     "execution_count": 26,
     "metadata": {},
     "output_type": "execute_result"
    }
   ],
   "source": [
    "mat=confusion_matrix(ytest,ypredict)\n",
    "mat"
   ]
  },
  {
   "cell_type": "code",
   "execution_count": 27,
   "metadata": {},
   "outputs": [],
   "source": [
    "cm=confusion_matrix(ypredict,ytest)"
   ]
  },
  {
   "cell_type": "code",
   "execution_count": 28,
   "metadata": {},
   "outputs": [
    {
     "data": {
      "text/plain": [
       "array([[63,  0,  0,  0,  0,  0,  0,  0,  0,  0],\n",
       "       [ 0, 61,  0,  0,  1,  0,  0,  1,  3,  2],\n",
       "       [ 0,  0, 53,  0,  0,  0,  0,  0,  0,  0],\n",
       "       [ 0,  0,  2, 47,  0,  0,  0,  0,  0,  0],\n",
       "       [ 0,  0,  0,  0, 47,  0,  0,  0,  0,  0],\n",
       "       [ 1,  0,  0,  0,  0, 56,  1,  0,  0,  0],\n",
       "       [ 0,  0,  0,  0,  0,  0, 48,  0,  0,  0],\n",
       "       [ 0,  0,  0,  0,  0,  0,  0, 51,  0,  1],\n",
       "       [ 0,  0,  0,  1,  0,  0,  1,  1, 46,  1],\n",
       "       [ 0,  0,  0,  1,  0,  1,  0,  0,  0, 50]], dtype=int64)"
      ]
     },
     "execution_count": 28,
     "metadata": {},
     "output_type": "execute_result"
    }
   ],
   "source": [
    "cm"
   ]
  },
  {
   "cell_type": "code",
   "execution_count": 29,
   "metadata": {},
   "outputs": [],
   "source": [
    "import seaborn as sns"
   ]
  },
  {
   "cell_type": "code",
   "execution_count": 30,
   "metadata": {},
   "outputs": [
    {
     "data": {
      "text/plain": [
       "Text(69.0, 0.5, 'ytest actual')"
      ]
     },
     "execution_count": 30,
     "metadata": {},
     "output_type": "execute_result"
    },
    {
     "data": {
      "image/png": "[encoded data removed]",
      "text/plain": [
       "<Figure size 720x504 with 2 Axes>"
      ]
     },
     "metadata": {
      "needs_background": "light"
     },
     "output_type": "display_data"
    }
   ],
   "source": [
    "plt.figure(figsize=(10,7))\n",
    "sns.heatmap(mat,annot=True)\n",
    "plt.xlabel(\"ytest predicted\")\n",
    "plt.ylabel(\"ytest actual\")"
   ]
  },
  {
   "cell_type": "code",
   "execution_count": null,
   "metadata": {},
   "outputs": [],
   "source": []
  },
  {
   "cell_type": "code",
   "execution_count": null,
   "metadata": {},
   "outputs": [],
   "source": []
  }
 ],
 "metadata": {
  "kernelspec": {
   "display_name": "Python 3",
   "language": "python",
   "name": "python3"
  },
  "language_info": {
   "codemirror_mode": {
    "name": "ipython",
    "version": 3
   },
   "file_extension": ".py",
   "mimetype": "text/x-python",
   "name": "python",
   "nbconvert_exporter": "python",
   "pygments_lexer": "ipython3",
   "version": "3.7.3"
  }
 },
 "nbformat": 4,
 "nbformat_minor": 2
}
